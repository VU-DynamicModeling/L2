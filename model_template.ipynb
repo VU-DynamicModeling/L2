{
 "cells": [
  {
   "cell_type": "markdown",
   "id": "471b28a7-8a79-4d8e-be9f-99da05186aa2",
   "metadata": {},
   "source": [
    "step 0: read the documentation (or at least open it): https://l2-python-doc.readthedocs.io/en/latest/"
   ]
  },
  {
   "cell_type": "markdown",
   "id": "f3663c37",
   "metadata": {},
   "source": [
    "step 0.5: install dependencies if you haven't already. (uncomment the lines below)"
   ]
  },
  {
   "cell_type": "code",
   "execution_count": null,
   "id": "72f58904",
   "metadata": {},
   "outputs": [],
   "source": [
    "# !pip install numpy\n",
    "# !pip install matplotlib\n",
    "# !pip install prettytable"
   ]
  },
  {
   "cell_type": "markdown",
   "id": "cc4882e2-9cd0-4c96-826b-d77394c5b9e6",
   "metadata": {},
   "source": [
    "step 1: imports. "
   ]
  },
  {
   "cell_type": "code",
   "execution_count": null,
   "id": "ef1fa8ea-c6ee-4fb8-8529-5a92ecd8e328",
   "metadata": {},
   "outputs": [],
   "source": [
    "from l2 import StateMachine, INF\n",
    "state_machine = StateMachine()"
   ]
  },
  {
   "cell_type": "markdown",
   "id": "813419eb-86ad-46af-bd8e-dffde6377db5",
   "metadata": {},
   "source": [
    "step 2: doing the theoretical work of making the model on paper. This includes making the concepts, a graphical representation and semi-formal rules. "
   ]
  },
  {
   "attachments": {
    "cc5bfe17-c83c-4e95-b8ac-7f4ddaffd6b2.png": {
     "image/png": "[encoded data removed]"
    }
   },
   "cell_type": "markdown",
   "id": "89cbefbe-7b97-413c-8ccf-e5fda1016def",
   "metadata": {},
   "source": [
    "![Untitled.png](attachment:cc5bfe17-c83c-4e95-b8ac-7f4ddaffd6b2.png)"
   ]
  },
  {
   "cell_type": "markdown",
   "id": "ca221509",
   "metadata": {},
   "source": [
    "| Concept | Description of use | formalization |\n",
    "| ----------- | ----------- | ----------- |\n",
    "| Input1 | the first input | input1(A:Agent, A:Agent, R:Real) |\n",
    "| Input2 | the second input | input2(A:Agent, A:Agent, R:Real) |\n",
    "| Input3 | the third input | input3(A:Agent, A:Agent, R:Real) |\n",
    "| Middle | an intermediate number | middle(A:Agent, R:Real) |\n",
    "| Out | a boolean output | out(A:Agent, B:Boolean) |"
   ]
  },
  {
   "cell_type": "markdown",
   "id": "21ae2d51-d05a-43c2-823b-d73b09ae76cd",
   "metadata": {},
   "source": [
    "Lets implement this random model with the following semi-formal rules:  \n",
    "#### DDR1\n",
    "<em>middle(t+dt) = input3(t) - input1(t) - input2(t) </em><br>\n",
    "#### DDR2\n",
    "<em>out(t+dt) = True    if middle(t) = 10 </em><br>\n",
    "<em>            False else   </em><br>\n",
    "    \n",
    "It's a bit hard to read but basically <br> \n",
    "middle = input3 - input1 - input2 <br>\n",
    "out = True if middle = 10. "
   ]
  },
  {
   "cell_type": "markdown",
   "id": "f9f94d4d-79dd-4a20-9c67-b1c070026fbb",
   "metadata": {},
   "source": [
    "step 3: create the sorts file. Sorts are the data types that our model can use. REAL and BOOLEAN are built in.  "
   ]
  },
  {
   "cell_type": "code",
   "execution_count": null,
   "id": "244b5932-e569-4914-9a4b-c38a03e44bd1",
   "metadata": {},
   "outputs": [],
   "source": [
    "state_machine.sorts = {\n",
    "    \"AGENT\" :   [\"arnie\", \"bernie\", \"charlie\"],\n",
    "}"
   ]
  },
  {
   "cell_type": "markdown",
   "id": "314d3d0b-cae6-47b9-b39a-45902b851e0e",
   "metadata": {},
   "source": [
    "step 4: create the predicates. Predicates is how we represent a concept in a model. It can contain any number of sorts as its values.  \n",
    "Lets use multiple agents for the inputs just to make it difficult for ourselves. We are not actually going to use the second agent. "
   ]
  },
  {
   "cell_type": "code",
   "execution_count": null,
   "id": "b8d43963-4e0b-4c8f-9b04-2171c52e1870",
   "metadata": {},
   "outputs": [],
   "source": [
    "state_machine.predicates = {\n",
    "\"input1\":  [\"AGENT\", \"AGENT\", \"REAL\"],\n",
    "\"input2\":  [\"AGENT\", \"AGENT\", \"REAL\"],\n",
    "\"input3\":  [\"AGENT\", \"AGENT\", \"REAL\"],\n",
    "\"middle\": [ \"AGENT\", \"REAL\"],\n",
    "\"out\":  [\"AGENT\", \"BOOLEAN\"],\n",
    "}\n"
   ]
  },
  {
   "cell_type": "markdown",
   "id": "39c5fcec-fb60-4f78-9e92-91a4532d4652",
   "metadata": {},
   "source": [
    "step 5: create one or more scenarios. Scenarios give the starting values for all predicates. \n",
    "- starting nodes (that have no arrow pointing towards them) should have their values defined for the entire simulation\n",
    "- calculates nodes (the ones with an arrow pointing towards them) should only have their starting value defined"
   ]
  },
  {
   "cell_type": "code",
   "execution_count": null,
   "id": "eaf0f095-d44d-4505-93f9-1de983c9c070",
   "metadata": {},
   "outputs": [],
   "source": [
    "state_machine.scenario = [\n",
    "(\"input1\", [\"arnie\", \"bernie\", 2], [1,INF]),\n",
    "(\"input2\", [\"arnie\", \"bernie\", 3], [1,INF]),\n",
    "(\"input3\", [\"arnie\", \"bernie\", 15], [1,INF]),\n",
    "(\"middle\", [\"arnie\", 10], [1]),\n",
    "(\"out\",[\"arnie\", True ],[1])\n",
    "]"
   ]
  },
  {
   "cell_type": "markdown",
   "id": "b7722198-280a-496b-ba56-9228338561bd",
   "metadata": {},
   "source": [
    "step 6: jeez we only just got to making the actual model?  \n",
    "now it's time to implement the semi-formal rules. Every calculated node in the graph (the ones with an arrow pointing towards them) should have one and exactly one rule that computes its value (according to your semi-formal rules)\n",
    "Every rule typically consists of three parts:\n",
    "- fetching the required information from the previous time step\n",
    "- computing the new value for the current time step\n",
    "- adding the new value to the simulation log (the states)\n"
   ]
  },
  {
   "cell_type": "markdown",
   "id": "1cbc513b-72e3-4673-bda8-cc8fc7625246",
   "metadata": {},
   "source": [
    "Did you look at the documentation yet?"
   ]
  },
  {
   "cell_type": "code",
   "execution_count": null,
   "id": "4ef8c764",
   "metadata": {},
   "outputs": [],
   "source": [
    "from l2 import Predicate\n",
    "# In addition, we import inspect, for debug purposes\n",
    "import inspect"
   ]
  },
  {
   "cell_type": "code",
   "execution_count": null,
   "id": "b2f2928a-c371-43db-b6f8-6b5e293bd10a",
   "metadata": {},
   "outputs": [],
   "source": [
    "def calculating_middle(states, t):\n",
    "\n",
    "    # this is how we get the previous time step containing all previous predicates\n",
    "    previous_state = states[t - 1]\n",
    "    \n",
    "    # now let's fetch the values we need. We need input 1, 2 and 3\n",
    "    # we typically use a for loop since there may be multiple agents that have this predicate and they all need to be processed. \n",
    "    for agent1, agent2, input1 in previous_state.get_predicate(\"input1\"):\n",
    "        \n",
    "        # we don't actually need agent2 but its good to show how it works, you could also print it\n",
    "        # print(agent2)\n",
    "\n",
    "        # now we have the first input we nee to make sure that the following searches are by the same agent\n",
    "        # this searches a predicate named input2 which contains arnie as first agent\n",
    "        for _,_, input2 in previous_state.get_predicate_by_agent(\"input2\", agent1, 0):\n",
    "            \n",
    "            # the for loops are nested because otherwise we would lose our previous variables. \n",
    "            # we also use the _ to ignore the values in those places because we already have them\n",
    "            for _,_,input3 in previous_state.get_predicate_by_agent(\"input3\", agent1, 0):\n",
    "                \n",
    "                \n",
    "                # finally we can calculate our new value according to our semi-formal rule (that we definitely did not change after realizing it was initially impossible to calculate with code)\n",
    "                new_middle = input1 - input2 - input3\n",
    "                \n",
    "                \n",
    "                # now that we did all that we can finally make a new predicate and return it to our state \n",
    "                # think carefully about in which for loop this bit should be\n",
    "                # wowee i sure hope i did not make any mistakes\n",
    "                new_predicate = Predicate(\"middle\", [agent1], new_middle)\n",
    "                states[t].add_predicate_to_state(new_predicate)\n",
    "\n"
   ]
  },
  {
   "cell_type": "markdown",
   "id": "3990df6c-5a05-4071-8ab4-aa367cbc7543",
   "metadata": {},
   "source": [
    "That was fun! lets make another one to procrascinate on sleeping"
   ]
  },
  {
   "cell_type": "code",
   "execution_count": null,
   "id": "760b8a01-e46f-4372-9410-d46f0b85d20f",
   "metadata": {},
   "outputs": [],
   "source": [
    "def calculating_output(states, t):\n",
    "\n",
    "    previous_state = states[t - 1]\n",
    "    \n",
    "    \n",
    "    # would i still need to put comments in this rule?\n",
    "    # this is the only predicate we need for calculating output\n",
    "    for agent1,  middle_value in previous_state.get_predicate(\"middle\"):\n",
    "        \n",
    "        \n",
    "        # this rule is really weird, but thats ok because we are not actually modeling anything\n",
    "        if middle_value == 10: \n",
    "        \n",
    "            new_output = True\n",
    "        else:\n",
    "            new_output = False\n",
    "\n",
    "        # alternatively you can use a parameter here: \n",
    "        # if middle_value == MIDDLE_TARGET:\n",
    "\n",
    "        new_predicate = Predicate(\"out\", [agent1], new_output)\n",
    "        states[t].add_predicate_to_state(new_predicate)"
   ]
  },
  {
   "cell_type": "markdown",
   "id": "a0783457-7c73-44af-99a8-1956a6864695",
   "metadata": {},
   "source": [
    "step 7: you can also add any other python functions you might need. "
   ]
  },
  {
   "cell_type": "code",
   "execution_count": null,
   "id": "5aeb3d68",
   "metadata": {},
   "outputs": [],
   "source": [
    "def something(x):\n",
    "    return \"I don't actually need a helper function for this model\""
   ]
  },
  {
   "cell_type": "markdown",
   "id": "71816ff3-e1dc-4592-8097-7b3b751606dd",
   "metadata": {},
   "source": [
    "step 8: put all your rules (not other functions) in the rules list"
   ]
  },
  {
   "cell_type": "markdown",
   "id": "06dc41b0",
   "metadata": {},
   "source": [
    "step 9: run the model, with or without debug mode\n",
    "NOTE: this is also the place to put your parameters. "
   ]
  },
  {
   "cell_type": "code",
   "execution_count": null,
   "id": "6e0fb672-0772-412d-b05d-a7c09050ee71",
   "metadata": {},
   "outputs": [],
   "source": [
    "rules = [calculating_output, calculating_middle]\n",
    "\n",
    "state_machine.rules = rules\n",
    "\n",
    "# print(state_machine.states)\n",
    "\n",
    "MIDDLE_TARGET = 10\n",
    "\n",
    "state_machine.run(debug_mode=False)\n",
    "\n",
    "from l2 import run_visualization\n",
    "run_visualization(state_machine)"
   ]
  },
  {
   "cell_type": "markdown",
   "id": "778f9cf6",
   "metadata": {},
   "source": [
    "Final step: Check the results of your model. Are they what you expected? If you see weird behaviour, something is probably wrong! If it looks fine, you can intepret the results and report on them for the assignment. "
   ]
  }
 ],
 "metadata": {
  "kernelspec": {
   "display_name": "Python 3 (ipykernel)",
   "language": "python",
   "name": "python3"
  },
  "language_info": {
   "codemirror_mode": {
    "name": "ipython",
    "version": 3
   },
   "file_extension": ".py",
   "mimetype": "text/x-python",
   "name": "python",
   "nbconvert_exporter": "python",
   "pygments_lexer": "ipython3",
   "version": "3.9.5"
  }
 },
 "nbformat": 4,
 "nbformat_minor": 5
}
